{
 "cells": [
  {
   "cell_type": "markdown",
   "metadata": {},
   "source": [
    "# PyTorch MNIST digits training\n",
    "\n",
    "https://nextjournal.com/gkoehler/pytorch-mnist\n",
    "https://github.com/pytorch/examples/blob/master/mnist/main.py\n",
    "https://towardsdatascience.com/handwritten-digit-mnist-pytorch-977b5338e627"
   ]
  },
  {
   "cell_type": "code",
   "execution_count": 1,
   "metadata": {},
   "outputs": [],
   "source": [
    "import torch\n",
    "import torchvision"
   ]
  },
  {
   "cell_type": "code",
   "execution_count": 2,
   "metadata": {},
   "outputs": [],
   "source": [
    "import matplotlib.pyplot as plt"
   ]
  },
  {
   "cell_type": "code",
   "execution_count": 3,
   "metadata": {},
   "outputs": [],
   "source": [
    "import torch.nn as nn\n",
    "import torch.nn.functional as F\n",
    "import torch.optim as optim"
   ]
  },
  {
   "cell_type": "code",
   "execution_count": 4,
   "metadata": {},
   "outputs": [],
   "source": [
    "import numpy as np"
   ]
  },
  {
   "cell_type": "code",
   "execution_count": 5,
   "metadata": {},
   "outputs": [],
   "source": [
    "from pathlib import Path"
   ]
  },
  {
   "cell_type": "code",
   "execution_count": 6,
   "metadata": {},
   "outputs": [],
   "source": [
    "from PIL import Image"
   ]
  },
  {
   "cell_type": "code",
   "execution_count": 7,
   "metadata": {},
   "outputs": [],
   "source": [
    "from torchvision import datasets, transforms"
   ]
  },
  {
   "cell_type": "code",
   "execution_count": null,
   "metadata": {},
   "outputs": [],
   "source": []
  },
  {
   "cell_type": "code",
   "execution_count": null,
   "metadata": {},
   "outputs": [],
   "source": []
  },
  {
   "cell_type": "code",
   "execution_count": 8,
   "metadata": {},
   "outputs": [],
   "source": [
    "n_epochs = 10"
   ]
  },
  {
   "cell_type": "code",
   "execution_count": 9,
   "metadata": {},
   "outputs": [
    {
     "data": {
      "text/plain": [
       "<torch._C.Generator at 0x2373b469530>"
      ]
     },
     "execution_count": 9,
     "metadata": {},
     "output_type": "execute_result"
    }
   ],
   "source": [
    "batch_size_train = 64\n",
    "batch_size_test = 10000\n",
    "learning_rate = 0.01\n",
    "momentum = 0.5\n",
    "log_interval = 100\n",
    "\n",
    "random_seed = 1\n",
    "# torch.backends.cudnn.enabled = False\n",
    "torch.manual_seed(random_seed)"
   ]
  },
  {
   "cell_type": "code",
   "execution_count": 10,
   "metadata": {},
   "outputs": [],
   "source": [
    "transform = transforms.Compose([transforms.ToTensor(),\n",
    "                              transforms.Normalize((0.1307,), (0.3081,)),\n",
    "                              ])"
   ]
  },
  {
   "cell_type": "code",
   "execution_count": 11,
   "metadata": {},
   "outputs": [],
   "source": [
    "train_loader = torch.utils.data.DataLoader(\n",
    "  torchvision.datasets.MNIST('/files/', train=True, download=True,\n",
    "                             transform=transform),\n",
    "  batch_size=batch_size_train, shuffle=True)"
   ]
  },
  {
   "cell_type": "code",
   "execution_count": 12,
   "metadata": {},
   "outputs": [],
   "source": [
    "test_loader = torch.utils.data.DataLoader(\n",
    "  torchvision.datasets.MNIST('/files/', train=False, download=True,\n",
    "                             transform=transform),\n",
    "  batch_size=batch_size_test, shuffle=True)"
   ]
  },
  {
   "cell_type": "code",
   "execution_count": null,
   "metadata": {},
   "outputs": [],
   "source": []
  },
  {
   "cell_type": "code",
   "execution_count": 13,
   "metadata": {},
   "outputs": [
    {
     "data": {
      "text/plain": [
       "torch.Size([10000, 1, 28, 28])"
      ]
     },
     "execution_count": 13,
     "metadata": {},
     "output_type": "execute_result"
    }
   ],
   "source": [
    "examples = enumerate(test_loader)\n",
    "batch_idx, (example_data, example_targets) = next(examples)\n",
    "\n",
    "example_data.shape"
   ]
  },
  {
   "cell_type": "code",
   "execution_count": 14,
   "metadata": {},
   "outputs": [
    {
     "data": {
      "image/png": "[encoded data removed]",
      "text/plain": [
       "<Figure size 432x288 with 6 Axes>"
      ]
     },
     "execution_count": 14,
     "metadata": {},
     "output_type": "execute_result"
    },
    {
     "data": {
      "image/png": "[encoded data removed]",
      "text/plain": [
       "<Figure size 432x288 with 6 Axes>"
      ]
     },
     "metadata": {},
     "output_type": "display_data"
    }
   ],
   "source": [
    "fig = plt.figure()\n",
    "for i in range(6):\n",
    "    plt.subplot(2,3,i+1)\n",
    "    plt.tight_layout()\n",
    "    plt.imshow(example_data[i][0], cmap='gray', interpolation='none')\n",
    "    plt.title(\"Ground Truth: {}\".format(example_targets[i]))\n",
    "    plt.xticks([])\n",
    "    plt.yticks([])\n",
    "fig"
   ]
  },
  {
   "cell_type": "code",
   "execution_count": null,
   "metadata": {},
   "outputs": [],
   "source": []
  },
  {
   "cell_type": "code",
   "execution_count": 15,
   "metadata": {},
   "outputs": [],
   "source": [
    "class Net(nn.Module):\n",
    "    def __init__(self):\n",
    "        super(Net, self).__init__()\n",
    "        self.conv1 = nn.Conv2d(1, 10, kernel_size=5)\n",
    "        self.conv2 = nn.Conv2d(10, 20, kernel_size=5)\n",
    "        self.conv2_drop = nn.Dropout2d()\n",
    "        self.fc1 = nn.Linear(320, 50)\n",
    "        self.fc2 = nn.Linear(50, 10)\n",
    "\n",
    "    def forward(self, x):\n",
    "        x = F.relu(F.max_pool2d(self.conv1(x), 2))\n",
    "        x = F.relu(F.max_pool2d(self.conv2_drop(self.conv2(x)), 2))\n",
    "        x = x.view(-1, 320)\n",
    "        x = F.relu(self.fc1(x))\n",
    "        x = F.dropout(x, training=self.training)\n",
    "        x = self.fc2(x)\n",
    "        return F.log_softmax(x)"
   ]
  },
  {
   "cell_type": "code",
   "execution_count": 16,
   "metadata": {},
   "outputs": [],
   "source": [
    "network = Net()\n",
    "optimizer = optim.SGD(network.parameters(),\n",
    "                      lr=learning_rate,\n",
    "                      momentum=momentum)"
   ]
  },
  {
   "cell_type": "code",
   "execution_count": 17,
   "metadata": {},
   "outputs": [],
   "source": [
    "train_losses = []\n",
    "train_counter = []\n",
    "test_losses = []\n",
    "test_counter = [i * len(train_loader.dataset) for i in range(n_epochs + 1)]"
   ]
  },
  {
   "cell_type": "code",
   "execution_count": 18,
   "metadata": {},
   "outputs": [],
   "source": [
    "def train(epoch):\n",
    "    network.train()\n",
    "    for batch_idx, (data, target) in enumerate(train_loader):\n",
    "        optimizer.zero_grad()\n",
    "        output = network(data)\n",
    "        loss = F.nll_loss(output, target)\n",
    "        loss.backward()\n",
    "        optimizer.step()\n",
    "        if batch_idx % log_interval == 0:\n",
    "            print('Train Epoch: {} [{}/{} ({:.0f}%)]\\tLoss: {:.6f}'.format(\n",
    "                epoch, batch_idx * len(data), len(train_loader.dataset),\n",
    "                100. * batch_idx / len(train_loader), loss.item()))\n",
    "            train_losses.append(loss.item())\n",
    "            train_counter.append((batch_idx * 64) +\n",
    "                                 ((epoch - 1) * len(train_loader.dataset)))\n",
    "            torch.save(network.state_dict(), 'model.pth')\n",
    "            torch.save(optimizer.state_dict(), 'optimizer.pth')"
   ]
  },
  {
   "cell_type": "code",
   "execution_count": 19,
   "metadata": {},
   "outputs": [],
   "source": [
    "def test():\n",
    "    network.eval()\n",
    "    test_loss = 0\n",
    "    correct = 0\n",
    "    with torch.no_grad():\n",
    "        for data, target in test_loader:\n",
    "            output = network(data)\n",
    "            test_loss += F.nll_loss(output, target, size_average=False).item()\n",
    "            pred = output.data.max(1, keepdim=True)[1]\n",
    "            correct += pred.eq(target.data.view_as(pred)).sum()\n",
    "    test_loss /= len(test_loader.dataset)\n",
    "    test_losses.append(test_loss)\n",
    "    print('\\nTest set: Avg. loss: {:.4f}, Accuracy: {}/{} ({:.0f}%)\\n'.format(\n",
    "        test_loss, correct, len(test_loader.dataset),\n",
    "        100. * correct / len(test_loader.dataset)))"
   ]
  },
  {
   "cell_type": "code",
   "execution_count": null,
   "metadata": {},
   "outputs": [],
   "source": []
  },
  {
   "cell_type": "code",
   "execution_count": null,
   "metadata": {},
   "outputs": [],
   "source": []
  },
  {
   "cell_type": "code",
   "execution_count": 20,
   "metadata": {},
   "outputs": [
    {
     "name": "stdout",
     "output_type": "stream",
     "text": [
      "\n",
      "Test set: Avg. loss: 2.3004, Accuracy: 751/10000 (8%)\n",
      "\n"
     ]
    },
    {
     "name": "stderr",
     "output_type": "stream",
     "text": [
      "E:\\py\\pytorch\\lib\\site-packages\\ipykernel_launcher.py:17: UserWarning: Implicit dimension choice for log_softmax has been deprecated. Change the call to include dim=X as an argument.\n",
      "E:\\py\\pytorch\\lib\\site-packages\\torch\\nn\\_reduction.py:43: UserWarning: size_average and reduce args will be deprecated, please use reduction='sum' instead.\n",
      "  warnings.warn(warning.format(ret))\n"
     ]
    }
   ],
   "source": [
    "test()"
   ]
  },
  {
   "cell_type": "code",
   "execution_count": 21,
   "metadata": {},
   "outputs": [
    {
     "name": "stderr",
     "output_type": "stream",
     "text": [
      "E:\\py\\pytorch\\lib\\site-packages\\ipykernel_launcher.py:17: UserWarning: Implicit dimension choice for log_softmax has been deprecated. Change the call to include dim=X as an argument.\n"
     ]
    },
    {
     "name": "stdout",
     "output_type": "stream",
     "text": [
      "Train Epoch: 1 [0/60000 (0%)]\tLoss: 2.268458\n",
      "Train Epoch: 1 [6400/60000 (11%)]\tLoss: 1.839604\n",
      "Train Epoch: 1 [12800/60000 (21%)]\tLoss: 0.927138\n",
      "Train Epoch: 1 [19200/60000 (32%)]\tLoss: 0.932272\n",
      "Train Epoch: 1 [25600/60000 (43%)]\tLoss: 0.772578\n",
      "Train Epoch: 1 [32000/60000 (53%)]\tLoss: 0.727685\n",
      "Train Epoch: 1 [38400/60000 (64%)]\tLoss: 0.722906\n",
      "Train Epoch: 1 [44800/60000 (75%)]\tLoss: 0.593229\n",
      "Train Epoch: 1 [51200/60000 (85%)]\tLoss: 0.801043\n",
      "Train Epoch: 1 [57600/60000 (96%)]\tLoss: 0.337982\n",
      "\n",
      "Test set: Avg. loss: 0.1989, Accuracy: 9439/10000 (94%)\n",
      "\n",
      "Train Epoch: 2 [0/60000 (0%)]\tLoss: 0.540850\n",
      "Train Epoch: 2 [6400/60000 (11%)]\tLoss: 0.509392\n",
      "Train Epoch: 2 [12800/60000 (21%)]\tLoss: 0.400315\n",
      "Train Epoch: 2 [19200/60000 (32%)]\tLoss: 0.481171\n",
      "Train Epoch: 2 [25600/60000 (43%)]\tLoss: 0.465868\n",
      "Train Epoch: 2 [32000/60000 (53%)]\tLoss: 0.448811\n",
      "Train Epoch: 2 [38400/60000 (64%)]\tLoss: 0.211114\n",
      "Train Epoch: 2 [44800/60000 (75%)]\tLoss: 0.461171\n",
      "Train Epoch: 2 [51200/60000 (85%)]\tLoss: 0.428354\n",
      "Train Epoch: 2 [57600/60000 (96%)]\tLoss: 0.395694\n",
      "\n",
      "Test set: Avg. loss: 0.1265, Accuracy: 9610/10000 (96%)\n",
      "\n",
      "Train Epoch: 3 [0/60000 (0%)]\tLoss: 0.271850\n",
      "Train Epoch: 3 [6400/60000 (11%)]\tLoss: 0.361289\n",
      "Train Epoch: 3 [12800/60000 (21%)]\tLoss: 0.282379\n",
      "Train Epoch: 3 [19200/60000 (32%)]\tLoss: 0.580737\n",
      "Train Epoch: 3 [25600/60000 (43%)]\tLoss: 0.289459\n",
      "Train Epoch: 3 [32000/60000 (53%)]\tLoss: 0.290312\n",
      "Train Epoch: 3 [38400/60000 (64%)]\tLoss: 0.193674\n",
      "Train Epoch: 3 [44800/60000 (75%)]\tLoss: 0.237853\n",
      "Train Epoch: 3 [51200/60000 (85%)]\tLoss: 0.259930\n",
      "Train Epoch: 3 [57600/60000 (96%)]\tLoss: 0.179770\n",
      "\n",
      "Test set: Avg. loss: 0.0930, Accuracy: 9708/10000 (97%)\n",
      "\n",
      "Train Epoch: 4 [0/60000 (0%)]\tLoss: 0.074145\n",
      "Train Epoch: 4 [6400/60000 (11%)]\tLoss: 0.247022\n",
      "Train Epoch: 4 [12800/60000 (21%)]\tLoss: 0.161015\n",
      "Train Epoch: 4 [19200/60000 (32%)]\tLoss: 0.282515\n",
      "Train Epoch: 4 [25600/60000 (43%)]\tLoss: 0.168413\n",
      "Train Epoch: 4 [32000/60000 (53%)]\tLoss: 0.233752\n",
      "Train Epoch: 4 [38400/60000 (64%)]\tLoss: 0.326290\n",
      "Train Epoch: 4 [44800/60000 (75%)]\tLoss: 0.288904\n",
      "Train Epoch: 4 [51200/60000 (85%)]\tLoss: 0.140666\n",
      "Train Epoch: 4 [57600/60000 (96%)]\tLoss: 0.285515\n",
      "\n",
      "Test set: Avg. loss: 0.0858, Accuracy: 9731/10000 (97%)\n",
      "\n",
      "Train Epoch: 5 [0/60000 (0%)]\tLoss: 0.292705\n",
      "Train Epoch: 5 [6400/60000 (11%)]\tLoss: 0.228809\n",
      "Train Epoch: 5 [12800/60000 (21%)]\tLoss: 0.166047\n",
      "Train Epoch: 5 [19200/60000 (32%)]\tLoss: 0.284504\n",
      "Train Epoch: 5 [25600/60000 (43%)]\tLoss: 0.195352\n",
      "Train Epoch: 5 [32000/60000 (53%)]\tLoss: 0.253654\n",
      "Train Epoch: 5 [38400/60000 (64%)]\tLoss: 0.210970\n",
      "Train Epoch: 5 [44800/60000 (75%)]\tLoss: 0.118227\n",
      "Train Epoch: 5 [51200/60000 (85%)]\tLoss: 0.186880\n",
      "Train Epoch: 5 [57600/60000 (96%)]\tLoss: 0.282944\n",
      "\n",
      "Test set: Avg. loss: 0.0719, Accuracy: 9782/10000 (98%)\n",
      "\n",
      "Train Epoch: 6 [0/60000 (0%)]\tLoss: 0.348144\n",
      "Train Epoch: 6 [6400/60000 (11%)]\tLoss: 0.167336\n",
      "Train Epoch: 6 [12800/60000 (21%)]\tLoss: 0.191299\n",
      "Train Epoch: 6 [19200/60000 (32%)]\tLoss: 0.122954\n",
      "Train Epoch: 6 [25600/60000 (43%)]\tLoss: 0.084901\n",
      "Train Epoch: 6 [32000/60000 (53%)]\tLoss: 0.135612\n",
      "Train Epoch: 6 [38400/60000 (64%)]\tLoss: 0.381110\n",
      "Train Epoch: 6 [44800/60000 (75%)]\tLoss: 0.164836\n",
      "Train Epoch: 6 [51200/60000 (85%)]\tLoss: 0.125333\n",
      "Train Epoch: 6 [57600/60000 (96%)]\tLoss: 0.259628\n",
      "\n",
      "Test set: Avg. loss: 0.0691, Accuracy: 9787/10000 (98%)\n",
      "\n",
      "Train Epoch: 7 [0/60000 (0%)]\tLoss: 0.235332\n",
      "Train Epoch: 7 [6400/60000 (11%)]\tLoss: 0.163588\n",
      "Train Epoch: 7 [12800/60000 (21%)]\tLoss: 0.112154\n",
      "Train Epoch: 7 [19200/60000 (32%)]\tLoss: 0.118671\n",
      "Train Epoch: 7 [25600/60000 (43%)]\tLoss: 0.277083\n",
      "Train Epoch: 7 [32000/60000 (53%)]\tLoss: 0.145713\n",
      "Train Epoch: 7 [38400/60000 (64%)]\tLoss: 0.061269\n",
      "Train Epoch: 7 [44800/60000 (75%)]\tLoss: 0.272421\n",
      "Train Epoch: 7 [51200/60000 (85%)]\tLoss: 0.228460\n",
      "Train Epoch: 7 [57600/60000 (96%)]\tLoss: 0.248381\n",
      "\n",
      "Test set: Avg. loss: 0.0624, Accuracy: 9805/10000 (98%)\n",
      "\n",
      "Train Epoch: 8 [0/60000 (0%)]\tLoss: 0.141586\n",
      "Train Epoch: 8 [6400/60000 (11%)]\tLoss: 0.162823\n",
      "Train Epoch: 8 [12800/60000 (21%)]\tLoss: 0.118409\n",
      "Train Epoch: 8 [19200/60000 (32%)]\tLoss: 0.204044\n",
      "Train Epoch: 8 [25600/60000 (43%)]\tLoss: 0.049590\n",
      "Train Epoch: 8 [32000/60000 (53%)]\tLoss: 0.249698\n",
      "Train Epoch: 8 [38400/60000 (64%)]\tLoss: 0.134419\n",
      "Train Epoch: 8 [44800/60000 (75%)]\tLoss: 0.315373\n",
      "Train Epoch: 8 [51200/60000 (85%)]\tLoss: 0.143380\n",
      "Train Epoch: 8 [57600/60000 (96%)]\tLoss: 0.220949\n",
      "\n",
      "Test set: Avg. loss: 0.0580, Accuracy: 9814/10000 (98%)\n",
      "\n",
      "Train Epoch: 9 [0/60000 (0%)]\tLoss: 0.199476\n",
      "Train Epoch: 9 [6400/60000 (11%)]\tLoss: 0.242163\n",
      "Train Epoch: 9 [12800/60000 (21%)]\tLoss: 0.144675\n",
      "Train Epoch: 9 [19200/60000 (32%)]\tLoss: 0.158165\n",
      "Train Epoch: 9 [25600/60000 (43%)]\tLoss: 0.140680\n",
      "Train Epoch: 9 [32000/60000 (53%)]\tLoss: 0.331066\n",
      "Train Epoch: 9 [38400/60000 (64%)]\tLoss: 0.214659\n",
      "Train Epoch: 9 [44800/60000 (75%)]\tLoss: 0.143286\n",
      "Train Epoch: 9 [51200/60000 (85%)]\tLoss: 0.207236\n",
      "Train Epoch: 9 [57600/60000 (96%)]\tLoss: 0.272700\n",
      "\n",
      "Test set: Avg. loss: 0.0539, Accuracy: 9823/10000 (98%)\n",
      "\n",
      "Train Epoch: 10 [0/60000 (0%)]\tLoss: 0.121828\n",
      "Train Epoch: 10 [6400/60000 (11%)]\tLoss: 0.119539\n",
      "Train Epoch: 10 [12800/60000 (21%)]\tLoss: 0.202274\n",
      "Train Epoch: 10 [19200/60000 (32%)]\tLoss: 0.242891\n",
      "Train Epoch: 10 [25600/60000 (43%)]\tLoss: 0.186359\n",
      "Train Epoch: 10 [32000/60000 (53%)]\tLoss: 0.228670\n",
      "Train Epoch: 10 [38400/60000 (64%)]\tLoss: 0.159724\n",
      "Train Epoch: 10 [44800/60000 (75%)]\tLoss: 0.111553\n",
      "Train Epoch: 10 [51200/60000 (85%)]\tLoss: 0.199687\n",
      "Train Epoch: 10 [57600/60000 (96%)]\tLoss: 0.096723\n",
      "\n",
      "Test set: Avg. loss: 0.0515, Accuracy: 9833/10000 (98%)\n",
      "\n"
     ]
    }
   ],
   "source": [
    "for epoch in range(1, n_epochs + 1):\n",
    "    train(epoch)\n",
    "    test()"
   ]
  },
  {
   "cell_type": "code",
   "execution_count": null,
   "metadata": {},
   "outputs": [],
   "source": []
  },
  {
   "cell_type": "code",
   "execution_count": null,
   "metadata": {},
   "outputs": [],
   "source": []
  },
  {
   "cell_type": "code",
   "execution_count": 22,
   "metadata": {},
   "outputs": [],
   "source": [
    "epoch_ends = np.arange(0, n_epochs + 1) * 60000"
   ]
  },
  {
   "cell_type": "code",
   "execution_count": 23,
   "metadata": {},
   "outputs": [
    {
     "data": {
      "image/png": "[encoded data removed]",
      "text/plain": [
       "<Figure size 432x288 with 1 Axes>"
      ]
     },
     "execution_count": 23,
     "metadata": {},
     "output_type": "execute_result"
    },
    {
     "data": {
      "image/png": "[encoded data removed]",
      "text/plain": [
       "<Figure size 432x288 with 1 Axes>"
      ]
     },
     "metadata": {
      "needs_background": "light"
     },
     "output_type": "display_data"
    }
   ],
   "source": [
    "fig = plt.figure()\n",
    "plt.plot(train_counter, train_losses, color='blue')\n",
    "plt.scatter(epoch_ends, test_losses, color='red')\n",
    "plt.legend(['Train Loss', 'Test Loss'], loc='upper right')\n",
    "plt.xlabel('number of training examples seen')\n",
    "plt.ylabel('negative log likelihood loss')\n",
    "fig"
   ]
  },
  {
   "cell_type": "code",
   "execution_count": null,
   "metadata": {},
   "outputs": [],
   "source": []
  },
  {
   "cell_type": "code",
   "execution_count": 24,
   "metadata": {
    "collapsed": true,
    "jupyter": {
     "outputs_hidden": true
    }
   },
   "outputs": [
    {
     "data": {
      "text/plain": [
       "[WindowsPath('C:/Users/b_r_l/source/repos/sudoku/images/0_0-cv2.png'),\n",
       " WindowsPath('C:/Users/b_r_l/source/repos/sudoku/images/0_1-cv2.png'),\n",
       " WindowsPath('C:/Users/b_r_l/source/repos/sudoku/images/0_2-cv2.png'),\n",
       " WindowsPath('C:/Users/b_r_l/source/repos/sudoku/images/0_3-cv2.png'),\n",
       " WindowsPath('C:/Users/b_r_l/source/repos/sudoku/images/0_4-cv2.png'),\n",
       " WindowsPath('C:/Users/b_r_l/source/repos/sudoku/images/0_5-cv2.png'),\n",
       " WindowsPath('C:/Users/b_r_l/source/repos/sudoku/images/0_6-cv2.png'),\n",
       " WindowsPath('C:/Users/b_r_l/source/repos/sudoku/images/0_7-cv2.png'),\n",
       " WindowsPath('C:/Users/b_r_l/source/repos/sudoku/images/0_8-cv2.png'),\n",
       " WindowsPath('C:/Users/b_r_l/source/repos/sudoku/images/1_0-cv2.png'),\n",
       " WindowsPath('C:/Users/b_r_l/source/repos/sudoku/images/1_1-cv2.png'),\n",
       " WindowsPath('C:/Users/b_r_l/source/repos/sudoku/images/1_2-cv2.png'),\n",
       " WindowsPath('C:/Users/b_r_l/source/repos/sudoku/images/1_3-cv2.png'),\n",
       " WindowsPath('C:/Users/b_r_l/source/repos/sudoku/images/1_4-cv2.png'),\n",
       " WindowsPath('C:/Users/b_r_l/source/repos/sudoku/images/1_5-cv2.png'),\n",
       " WindowsPath('C:/Users/b_r_l/source/repos/sudoku/images/1_6-cv2.png'),\n",
       " WindowsPath('C:/Users/b_r_l/source/repos/sudoku/images/1_7-cv2.png'),\n",
       " WindowsPath('C:/Users/b_r_l/source/repos/sudoku/images/1_8-cv2.png'),\n",
       " WindowsPath('C:/Users/b_r_l/source/repos/sudoku/images/2_0-cv2.png'),\n",
       " WindowsPath('C:/Users/b_r_l/source/repos/sudoku/images/2_1-cv2.png'),\n",
       " WindowsPath('C:/Users/b_r_l/source/repos/sudoku/images/2_2-cv2.png'),\n",
       " WindowsPath('C:/Users/b_r_l/source/repos/sudoku/images/2_3-cv2.png'),\n",
       " WindowsPath('C:/Users/b_r_l/source/repos/sudoku/images/2_4-cv2.png'),\n",
       " WindowsPath('C:/Users/b_r_l/source/repos/sudoku/images/2_5-cv2.png'),\n",
       " WindowsPath('C:/Users/b_r_l/source/repos/sudoku/images/2_6-cv2.png'),\n",
       " WindowsPath('C:/Users/b_r_l/source/repos/sudoku/images/2_7-cv2.png'),\n",
       " WindowsPath('C:/Users/b_r_l/source/repos/sudoku/images/2_8-cv2.png'),\n",
       " WindowsPath('C:/Users/b_r_l/source/repos/sudoku/images/3_0-cv2.png'),\n",
       " WindowsPath('C:/Users/b_r_l/source/repos/sudoku/images/3_1-cv2.png'),\n",
       " WindowsPath('C:/Users/b_r_l/source/repos/sudoku/images/3_2-cv2.png'),\n",
       " WindowsPath('C:/Users/b_r_l/source/repos/sudoku/images/3_3-cv2.png'),\n",
       " WindowsPath('C:/Users/b_r_l/source/repos/sudoku/images/3_4-cv2.png'),\n",
       " WindowsPath('C:/Users/b_r_l/source/repos/sudoku/images/3_5-cv2.png'),\n",
       " WindowsPath('C:/Users/b_r_l/source/repos/sudoku/images/3_6-cv2.png'),\n",
       " WindowsPath('C:/Users/b_r_l/source/repos/sudoku/images/3_7-cv2.png'),\n",
       " WindowsPath('C:/Users/b_r_l/source/repos/sudoku/images/3_8-cv2.png'),\n",
       " WindowsPath('C:/Users/b_r_l/source/repos/sudoku/images/4_0-cv2.png'),\n",
       " WindowsPath('C:/Users/b_r_l/source/repos/sudoku/images/4_1-cv2.png'),\n",
       " WindowsPath('C:/Users/b_r_l/source/repos/sudoku/images/4_2-cv2.png'),\n",
       " WindowsPath('C:/Users/b_r_l/source/repos/sudoku/images/4_3-cv2.png'),\n",
       " WindowsPath('C:/Users/b_r_l/source/repos/sudoku/images/4_4-cv2.png'),\n",
       " WindowsPath('C:/Users/b_r_l/source/repos/sudoku/images/4_5-cv2.png'),\n",
       " WindowsPath('C:/Users/b_r_l/source/repos/sudoku/images/4_6-cv2.png'),\n",
       " WindowsPath('C:/Users/b_r_l/source/repos/sudoku/images/4_7-cv2.png'),\n",
       " WindowsPath('C:/Users/b_r_l/source/repos/sudoku/images/4_8-cv2.png'),\n",
       " WindowsPath('C:/Users/b_r_l/source/repos/sudoku/images/5_0-cv2.png'),\n",
       " WindowsPath('C:/Users/b_r_l/source/repos/sudoku/images/5_1-cv2.png'),\n",
       " WindowsPath('C:/Users/b_r_l/source/repos/sudoku/images/5_2-cv2.png'),\n",
       " WindowsPath('C:/Users/b_r_l/source/repos/sudoku/images/5_3-cv2.png'),\n",
       " WindowsPath('C:/Users/b_r_l/source/repos/sudoku/images/5_4-cv2.png'),\n",
       " WindowsPath('C:/Users/b_r_l/source/repos/sudoku/images/5_5-cv2.png'),\n",
       " WindowsPath('C:/Users/b_r_l/source/repos/sudoku/images/5_6-cv2.png'),\n",
       " WindowsPath('C:/Users/b_r_l/source/repos/sudoku/images/5_7-cv2.png'),\n",
       " WindowsPath('C:/Users/b_r_l/source/repos/sudoku/images/5_8-cv2.png'),\n",
       " WindowsPath('C:/Users/b_r_l/source/repos/sudoku/images/6_0-cv2.png'),\n",
       " WindowsPath('C:/Users/b_r_l/source/repos/sudoku/images/6_1-cv2.png'),\n",
       " WindowsPath('C:/Users/b_r_l/source/repos/sudoku/images/6_2-cv2.png'),\n",
       " WindowsPath('C:/Users/b_r_l/source/repos/sudoku/images/6_3-cv2.png'),\n",
       " WindowsPath('C:/Users/b_r_l/source/repos/sudoku/images/6_4-cv2.png'),\n",
       " WindowsPath('C:/Users/b_r_l/source/repos/sudoku/images/6_5-cv2.png'),\n",
       " WindowsPath('C:/Users/b_r_l/source/repos/sudoku/images/6_6-cv2.png'),\n",
       " WindowsPath('C:/Users/b_r_l/source/repos/sudoku/images/6_7-cv2.png'),\n",
       " WindowsPath('C:/Users/b_r_l/source/repos/sudoku/images/6_8-cv2.png'),\n",
       " WindowsPath('C:/Users/b_r_l/source/repos/sudoku/images/7_0-cv2.png'),\n",
       " WindowsPath('C:/Users/b_r_l/source/repos/sudoku/images/7_1-cv2.png'),\n",
       " WindowsPath('C:/Users/b_r_l/source/repos/sudoku/images/7_2-cv2.png'),\n",
       " WindowsPath('C:/Users/b_r_l/source/repos/sudoku/images/7_3-cv2.png'),\n",
       " WindowsPath('C:/Users/b_r_l/source/repos/sudoku/images/7_4-cv2.png'),\n",
       " WindowsPath('C:/Users/b_r_l/source/repos/sudoku/images/7_5-cv2.png'),\n",
       " WindowsPath('C:/Users/b_r_l/source/repos/sudoku/images/7_6-cv2.png'),\n",
       " WindowsPath('C:/Users/b_r_l/source/repos/sudoku/images/7_7-cv2.png'),\n",
       " WindowsPath('C:/Users/b_r_l/source/repos/sudoku/images/7_8-cv2.png'),\n",
       " WindowsPath('C:/Users/b_r_l/source/repos/sudoku/images/8_0-cv2.png'),\n",
       " WindowsPath('C:/Users/b_r_l/source/repos/sudoku/images/8_1-cv2.png'),\n",
       " WindowsPath('C:/Users/b_r_l/source/repos/sudoku/images/8_2-cv2.png'),\n",
       " WindowsPath('C:/Users/b_r_l/source/repos/sudoku/images/8_3-cv2.png'),\n",
       " WindowsPath('C:/Users/b_r_l/source/repos/sudoku/images/8_4-cv2.png'),\n",
       " WindowsPath('C:/Users/b_r_l/source/repos/sudoku/images/8_5-cv2.png'),\n",
       " WindowsPath('C:/Users/b_r_l/source/repos/sudoku/images/8_6-cv2.png'),\n",
       " WindowsPath('C:/Users/b_r_l/source/repos/sudoku/images/8_7-cv2.png'),\n",
       " WindowsPath('C:/Users/b_r_l/source/repos/sudoku/images/8_8-cv2.png')]"
      ]
     },
     "execution_count": 24,
     "metadata": {},
     "output_type": "execute_result"
    }
   ],
   "source": [
    "image_path = Path(r'C:\\Users\\b_r_l\\source\\repos\\sudoku\\images')\n",
    "\n",
    "images = [*image_path.glob('*-cv2.png')]\n",
    "images"
   ]
  },
  {
   "cell_type": "code",
   "execution_count": null,
   "metadata": {},
   "outputs": [],
   "source": []
  },
  {
   "cell_type": "code",
   "execution_count": 30,
   "metadata": {},
   "outputs": [
    {
     "data": {
      "text/plain": [
       "26"
      ]
     },
     "execution_count": 30,
     "metadata": {},
     "output_type": "execute_result"
    }
   ],
   "source": [
    "imgs = []\n",
    "for image in images:\n",
    "    img = Image.open(image)\n",
    "    img = img \\\n",
    "      .convert('L') \\\n",
    "        .crop((7, 6, 56, 56)) \\\n",
    "          .resize((28, 28))\n",
    "    a = 1 - (np.array(img) / 255)\n",
    "    if a.sum() > 0:\n",
    "        a = (a - 0.1307) / 0.3081\n",
    "        a = a.reshape((1, 28, 28))\n",
    "        a = a.astype(np.double)\n",
    "        img.save(image_path / '28' / (image.stem + '_28.png'))\n",
    "        imgs.append(a)\n",
    "len(imgs)"
   ]
  },
  {
   "cell_type": "code",
   "execution_count": null,
   "metadata": {},
   "outputs": [],
   "source": []
  },
  {
   "cell_type": "code",
   "execution_count": 31,
   "metadata": {},
   "outputs": [
    {
     "name": "stderr",
     "output_type": "stream",
     "text": [
      "E:\\py\\pytorch\\lib\\site-packages\\ipykernel_launcher.py:17: UserWarning: Implicit dimension choice for log_softmax has been deprecated. Change the call to include dim=X as an argument.\n"
     ]
    }
   ],
   "source": [
    "with torch.no_grad():\n",
    "    t = torch.tensor(imgs).float()\n",
    "    output = network(t)"
   ]
  },
  {
   "cell_type": "code",
   "execution_count": 32,
   "metadata": {},
   "outputs": [
    {
     "name": "stdout",
     "output_type": "stream",
     "text": [
      "6\n"
     ]
    },
    {
     "data": {
      "image/png": "[encoded data removed]",
      "text/plain": [
       "<Figure size 432x288 with 1 Axes>"
      ]
     },
     "metadata": {
      "needs_background": "light"
     },
     "output_type": "display_data"
    },
    {
     "name": "stdout",
     "output_type": "stream",
     "text": [
      "9\n"
     ]
    },
    {
     "data": {
      "image/png": "[encoded data removed]",
      "text/plain": [
       "<Figure size 432x288 with 1 Axes>"
      ]
     },
     "metadata": {
      "needs_background": "light"
     },
     "output_type": "display_data"
    },
    {
     "name": "stdout",
     "output_type": "stream",
     "text": [
      "2\n"
     ]
    },
    {
     "data": {
      "image/png": "[encoded data removed]",
      "text/plain": [
       "<Figure size 432x288 with 1 Axes>"
      ]
     },
     "metadata": {
      "needs_background": "light"
     },
     "output_type": "display_data"
    },
    {
     "name": "stdout",
     "output_type": "stream",
     "text": [
      "6\n"
     ]
    },
    {
     "data": {
      "image/png": "[encoded data removed]",
      "text/plain": [
       "<Figure size 432x288 with 1 Axes>"
      ]
     },
     "metadata": {
      "needs_background": "light"
     },
     "output_type": "display_data"
    },
    {
     "name": "stdout",
     "output_type": "stream",
     "text": [
      "1\n"
     ]
    },
    {
     "data": {
      "image/png": "[encoded data removed]",
      "text/plain": [
       "<Figure size 432x288 with 1 Axes>"
      ]
     },
     "metadata": {
      "needs_background": "light"
     },
     "output_type": "display_data"
    },
    {
     "name": "stdout",
     "output_type": "stream",
     "text": [
      "2\n"
     ]
    },
    {
     "data": {
      "image/png": "[encoded data removed]",
      "text/plain": [
       "<Figure size 432x288 with 1 Axes>"
      ]
     },
     "metadata": {
      "needs_background": "light"
     },
     "output_type": "display_data"
    },
    {
     "name": "stdout",
     "output_type": "stream",
     "text": [
      "3\n"
     ]
    },
    {
     "data": {
      "image/png": "[encoded data removed]",
      "text/plain": [
       "<Figure size 432x288 with 1 Axes>"
      ]
     },
     "metadata": {
      "needs_background": "light"
     },
     "output_type": "display_data"
    },
    {
     "name": "stdout",
     "output_type": "stream",
     "text": [
      "5\n"
     ]
    },
    {
     "data": {
      "image/png": "[encoded data removed]",
      "text/plain": [
       "<Figure size 432x288 with 1 Axes>"
      ]
     },
     "metadata": {
      "needs_background": "light"
     },
     "output_type": "display_data"
    },
    {
     "name": "stdout",
     "output_type": "stream",
     "text": [
      "4\n"
     ]
    },
    {
     "data": {
      "image/png": "[encoded data removed]",
      "text/plain": [
       "<Figure size 432x288 with 1 Axes>"
      ]
     },
     "metadata": {
      "needs_background": "light"
     },
     "output_type": "display_data"
    },
    {
     "name": "stdout",
     "output_type": "stream",
     "text": [
      "4\n"
     ]
    },
    {
     "data": {
      "image/png": "[encoded data removed]",
      "text/plain": [
       "<Figure size 432x288 with 1 Axes>"
      ]
     },
     "metadata": {
      "needs_background": "light"
     },
     "output_type": "display_data"
    },
    {
     "name": "stdout",
     "output_type": "stream",
     "text": [
      "1\n"
     ]
    },
    {
     "data": {
      "image/png": "[encoded data removed]",
      "text/plain": [
       "<Figure size 432x288 with 1 Axes>"
      ]
     },
     "metadata": {
      "needs_background": "light"
     },
     "output_type": "display_data"
    },
    {
     "name": "stdout",
     "output_type": "stream",
     "text": [
      "1\n"
     ]
    },
    {
     "data": {
      "image/png": "[encoded data removed]",
      "text/plain": [
       "<Figure size 432x288 with 1 Axes>"
      ]
     },
     "metadata": {
      "needs_background": "light"
     },
     "output_type": "display_data"
    },
    {
     "name": "stdout",
     "output_type": "stream",
     "text": [
      "4\n"
     ]
    },
    {
     "data": {
      "image/png": "[encoded data removed]",
      "text/plain": [
       "<Figure size 432x288 with 1 Axes>"
      ]
     },
     "metadata": {
      "needs_background": "light"
     },
     "output_type": "display_data"
    },
    {
     "name": "stdout",
     "output_type": "stream",
     "text": [
      "5\n"
     ]
    },
    {
     "data": {
      "image/png": "[encoded data removed]",
      "text/plain": [
       "<Figure size 432x288 with 1 Axes>"
      ]
     },
     "metadata": {
      "needs_background": "light"
     },
     "output_type": "display_data"
    },
    {
     "name": "stdout",
     "output_type": "stream",
     "text": [
      "5\n"
     ]
    },
    {
     "data": {
      "image/png": "[encoded data removed]",
      "text/plain": [
       "<Figure size 432x288 with 1 Axes>"
      ]
     },
     "metadata": {
      "needs_background": "light"
     },
     "output_type": "display_data"
    },
    {
     "name": "stdout",
     "output_type": "stream",
     "text": [
      "4\n"
     ]
    },
    {
     "data": {
      "image/png": "[encoded data removed]",
      "text/plain": [
       "<Figure size 432x288 with 1 Axes>"
      ]
     },
     "metadata": {
      "needs_background": "light"
     },
     "output_type": "display_data"
    },
    {
     "name": "stdout",
     "output_type": "stream",
     "text": [
      "2\n"
     ]
    },
    {
     "data": {
      "image/png": "[encoded data removed]",
      "text/plain": [
       "<Figure size 432x288 with 1 Axes>"
      ]
     },
     "metadata": {
      "needs_background": "light"
     },
     "output_type": "display_data"
    },
    {
     "name": "stdout",
     "output_type": "stream",
     "text": [
      "5\n"
     ]
    },
    {
     "data": {
      "image/png": "[encoded data removed]",
      "text/plain": [
       "<Figure size 432x288 with 1 Axes>"
      ]
     },
     "metadata": {
      "needs_background": "light"
     },
     "output_type": "display_data"
    },
    {
     "name": "stdout",
     "output_type": "stream",
     "text": [
      "9\n"
     ]
    },
    {
     "data": {
      "image/png": "[encoded data removed]",
      "text/plain": [
       "<Figure size 432x288 with 1 Axes>"
      ]
     },
     "metadata": {
      "needs_background": "light"
     },
     "output_type": "display_data"
    },
    {
     "name": "stdout",
     "output_type": "stream",
     "text": [
      "5\n"
     ]
    },
    {
     "data": {
      "image/png": "[encoded data removed]",
      "text/plain": [
       "<Figure size 432x288 with 1 Axes>"
      ]
     },
     "metadata": {
      "needs_background": "light"
     },
     "output_type": "display_data"
    },
    {
     "name": "stdout",
     "output_type": "stream",
     "text": [
      "8\n"
     ]
    },
    {
     "data": {
      "image/png": "[encoded data removed]",
      "text/plain": [
       "<Figure size 432x288 with 1 Axes>"
      ]
     },
     "metadata": {
      "needs_background": "light"
     },
     "output_type": "display_data"
    },
    {
     "name": "stdout",
     "output_type": "stream",
     "text": [
      "9\n"
     ]
    },
    {
     "data": {
      "image/png": "[encoded data removed]",
      "text/plain": [
       "<Figure size 432x288 with 1 Axes>"
      ]
     },
     "metadata": {
      "needs_background": "light"
     },
     "output_type": "display_data"
    },
    {
     "name": "stdout",
     "output_type": "stream",
     "text": [
      "8\n"
     ]
    },
    {
     "data": {
      "image/png": "[encoded data removed]",
      "text/plain": [
       "<Figure size 432x288 with 1 Axes>"
      ]
     },
     "metadata": {
      "needs_background": "light"
     },
     "output_type": "display_data"
    },
    {
     "name": "stdout",
     "output_type": "stream",
     "text": [
      "0\n"
     ]
    },
    {
     "data": {
      "image/png": "[encoded data removed]",
      "text/plain": [
       "<Figure size 432x288 with 1 Axes>"
      ]
     },
     "metadata": {
      "needs_background": "light"
     },
     "output_type": "display_data"
    },
    {
     "name": "stdout",
     "output_type": "stream",
     "text": [
      "9\n"
     ]
    },
    {
     "data": {
      "image/png": "[encoded data removed]",
      "text/plain": [
       "<Figure size 432x288 with 1 Axes>"
      ]
     },
     "metadata": {
      "needs_background": "light"
     },
     "output_type": "display_data"
    },
    {
     "name": "stdout",
     "output_type": "stream",
     "text": [
      "7\n"
     ]
    },
    {
     "data": {
      "image/png": "[encoded data removed]",
      "text/plain": [
       "<Figure size 432x288 with 1 Axes>"
      ]
     },
     "metadata": {
      "needs_background": "light"
     },
     "output_type": "display_data"
    }
   ],
   "source": [
    "for i in range(len(output)):\n",
    "    print(output.data.max(1, keepdim=True)[1][i].item())\n",
    "    plt.imshow(imgs[i].reshape(28,28), cmap=\"gray\")\n",
    "    plt.show()"
   ]
  },
  {
   "cell_type": "code",
   "execution_count": null,
   "metadata": {},
   "outputs": [],
   "source": []
  }
 ],
 "metadata": {
  "kernelspec": {
   "display_name": "Python 3.7.6 64-bit ('pytorch': conda)",
   "language": "python",
   "name": "python37664bitpytorchconda78402f2d7ec74aa78f2d919d38b6f1e3"
  },
  "language_info": {
   "codemirror_mode": {
    "name": "ipython",
    "version": 3
   },
   "file_extension": ".py",
   "mimetype": "text/x-python",
   "name": "python",
   "nbconvert_exporter": "python",
   "pygments_lexer": "ipython3",
   "version": "3.7.7"
  }
 },
 "nbformat": 4,
 "nbformat_minor": 4
}
